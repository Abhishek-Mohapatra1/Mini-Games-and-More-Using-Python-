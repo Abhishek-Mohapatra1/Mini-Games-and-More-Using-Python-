{
 "cells": [
  {
   "cell_type": "code",
   "execution_count": 2,
   "id": "58131c2a",
   "metadata": {},
   "outputs": [
    {
     "name": "stdout",
     "output_type": "stream",
     "text": [
      "I choose , rock is 0,paper is 1 or scissors is 2 ?  2\n",
      "\n",
      "    _______\n",
      "---'   ____)____\n",
      "          ______)\n",
      "       __________)\n",
      "      (____)\n",
      "---.__(___)\n",
      "\n",
      "computer chose  0\n",
      "\n",
      "    _______\n",
      "---'   ____)\n",
      "      (_____)\n",
      "      (_____)\n",
      "      (____)\n",
      "---.__(___)\n",
      "\n",
      "You lose\n"
     ]
    }
   ],
   "source": [
    "rock = '''\n",
    "    _______\n",
    "---'   ____)\n",
    "      (_____)\n",
    "      (_____)\n",
    "      (____)\n",
    "---.__(___)\n",
    "'''\n",
    "\n",
    "paper = '''\n",
    "    _______\n",
    "---'   ____)____\n",
    "          ______)\n",
    "          _______)\n",
    "         _______)\n",
    "---.__________)\n",
    "'''\n",
    "\n",
    "scissors = '''\n",
    "    _______\n",
    "---'   ____)____\n",
    "          ______)\n",
    "       __________)\n",
    "      (____)\n",
    "---.__(___)\n",
    "'''\n",
    "\n",
    "# Write your code below this line 👇\n",
    "import random\n",
    "game=[rock,paper,scissors]\n",
    "human_input=int(input('I choose , rock is 0,paper is 1 or scissors is 2 ?  '))\n",
    "\n",
    "\n",
    "if human_input>=3 or human_input<0:\n",
    "      print('You typed an invalid number, you lose!')\n",
    "else:\n",
    "    print(game[human_input])\n",
    "    \n",
    "    computer_input=random.randint(0,len(game)-1)\n",
    "    print(f'computer chose  {computer_input}')\n",
    "    print(game[computer_input])\n",
    "\n",
    "    if (human_input == computer_input):\n",
    "          print('draw')\n",
    "    elif (human_input==0 and computer_input==2) or (human_input==2 and computer_input==1) or (human_input==1 and computer_input==0):\n",
    "          print('You Win')\n",
    "    elif (human_input==0 and computer_input==1) or(human_input==2 and computer_input==0) or (human_input==1 and computer_input==2):\n",
    "          print('You lose')\n"
   ]
  },
  {
   "cell_type": "code",
   "execution_count": null,
   "id": "c9e1d7ad",
   "metadata": {},
   "outputs": [],
   "source": []
  }
 ],
 "metadata": {
  "kernelspec": {
   "display_name": "Python 3 (ipykernel)",
   "language": "python",
   "name": "python3"
  },
  "language_info": {
   "codemirror_mode": {
    "name": "ipython",
    "version": 3
   },
   "file_extension": ".py",
   "mimetype": "text/x-python",
   "name": "python",
   "nbconvert_exporter": "python",
   "pygments_lexer": "ipython3",
   "version": "3.9.7"
  }
 },
 "nbformat": 4,
 "nbformat_minor": 5
}
