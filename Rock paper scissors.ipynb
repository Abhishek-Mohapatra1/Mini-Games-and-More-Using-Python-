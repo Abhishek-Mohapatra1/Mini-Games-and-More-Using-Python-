rock = '''
    _______
---'   ____)
      (_____)
      (_____)
      (____)
---.__(___)
'''

paper = '''
    _______
---'   ____)____
          ______)
          _______)
         _______)
---.__________)
'''

scissors = '''
    _______
---'   ____)____
          ______)
       __________)
      (____)
---.__(___)
'''

# Write your code below this line 👇
import random
game=[rock,paper,scissors]
human_input=int(input('I choose , rock is 0,paper is 1 or scissors is 2 ?  '))


if human_input>=3 or human_input<0:
      print('You typed an invalid number, you lose!')
else:
    print(game[human_input])
    
    computer_input=random.randint(0,len(game)-1)
    print(f'computer chose  {computer_input}')
    print(game[computer_input])

    if (human_input == computer_input):
          print('draw')
    elif (human_input==0 and computer_input==2) or (human_input==2 and computer_input==1) or (human_input==1 and computer_input==0):
          print('You Win')
    elif (human_input==0 and computer_input==1) or(human_input==2 and computer_input==0) or (human_input==1 and computer_input==2):
          print('You lose')

     
